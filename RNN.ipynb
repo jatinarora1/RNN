{
 "cells": [
  {
   "cell_type": "code",
   "execution_count": 68,
   "metadata": {},
   "outputs": [],
   "source": [
    "from keras.datasets import imdb\n",
    "\n",
    "((X_T,Y_T),(X_t,Y_t)) = imdb.load_data(num_words = 100000)"
   ]
  },
  {
   "cell_type": "code",
   "execution_count": 69,
   "metadata": {},
   "outputs": [
    {
     "name": "stdout",
     "output_type": "stream",
     "text": [
      "25000\n",
      "25000\n"
     ]
    }
   ],
   "source": [
    "print(len(X_T))\n",
    "print(len(X_t))"
   ]
  },
  {
   "cell_type": "code",
   "execution_count": 70,
   "metadata": {},
   "outputs": [],
   "source": [
    "wrd_idx = imdb.get_word_index()"
   ]
  },
  {
   "cell_type": "code",
   "execution_count": 71,
   "metadata": {},
   "outputs": [],
   "source": [
    "idx_word = dict([value,key] for (key,value) in wrd_idx.items())"
   ]
  },
  {
   "cell_type": "code",
   "execution_count": 72,
   "metadata": {},
   "outputs": [],
   "source": [
    "actual_review = ' '.join([idx_word.get(idx-3,'?') for idx in X_T[0]])"
   ]
  },
  {
   "cell_type": "code",
   "execution_count": 73,
   "metadata": {},
   "outputs": [
    {
     "name": "stdout",
     "output_type": "stream",
     "text": [
      "? this film was just brilliant casting location scenery story direction everyone's really suited the part they played and you could just imagine being there robert redford's is an amazing actor and now the same being director norman's father came from the same scottish island as myself so i loved the fact there was a real connection with this film the witty remarks throughout the film were great it was just brilliant so much that i bought the film as soon as it was released for retail and would recommend it to everyone to watch and the fly fishing was amazing really cried at the end it was so sad and you know what they say if you cry at a film it must have been good and this definitely was also congratulations to the two little boy's that played the part's of norman and paul they were just brilliant children are often left out of the praising list i think because the stars that play them all grown up are such a big profile for the whole film but these children are amazing and should be praised for what they have done don't you think the whole story was so lovely because it was true and was someone's life after all that was shared with us all\n"
     ]
    }
   ],
   "source": [
    "print(actual_review)"
   ]
  },
  {
   "cell_type": "code",
   "execution_count": 74,
   "metadata": {},
   "outputs": [
    {
     "name": "stdout",
     "output_type": "stream",
     "text": [
      "218\n"
     ]
    }
   ],
   "source": [
    "print(len(actual_review.split()))"
   ]
  },
  {
   "cell_type": "code",
   "execution_count": 75,
   "metadata": {},
   "outputs": [
    {
     "name": "stdout",
     "output_type": "stream",
     "text": [
      "(25000, 500)\n"
     ]
    }
   ],
   "source": [
    "from keras.preprocessing import sequence\n",
    "X_train = sequence.pad_sequences(X_T,maxlen = 500)\n",
    "X_test = sequence.pad_sequences(X_t,maxlen = 500)\n",
    "print(X_train.shape)"
   ]
  },
  {
   "cell_type": "code",
   "execution_count": 76,
   "metadata": {},
   "outputs": [],
   "source": [
    "from keras.models import Sequential\n",
    "from keras.layers import Embedding, SimpleRNN, Dense"
   ]
  },
  {
   "cell_type": "code",
   "execution_count": 99,
   "metadata": {},
   "outputs": [],
   "source": [
    "model = Sequential()\n",
    "model.add(Embedding(100000,64))\n",
    "model.add(SimpleRNN(32))\n",
    "model.add(Dense(1,activation = 'sigmoid'))"
   ]
  },
  {
   "cell_type": "code",
   "execution_count": 100,
   "metadata": {},
   "outputs": [
    {
     "name": "stdout",
     "output_type": "stream",
     "text": [
      "Model: \"sequential_13\"\n",
      "_________________________________________________________________\n",
      "Layer (type)                 Output Shape              Param #   \n",
      "=================================================================\n",
      "embedding_13 (Embedding)     (None, None, 64)          6400000   \n",
      "_________________________________________________________________\n",
      "simple_rnn_6 (SimpleRNN)     (None, 32)                3104      \n",
      "_________________________________________________________________\n",
      "dense_6 (Dense)              (None, 1)                 33        \n",
      "=================================================================\n",
      "Total params: 6,403,137\n",
      "Trainable params: 6,403,137\n",
      "Non-trainable params: 0\n",
      "_________________________________________________________________\n"
     ]
    }
   ],
   "source": [
    "model.summary()"
   ]
  },
  {
   "cell_type": "code",
   "execution_count": 101,
   "metadata": {},
   "outputs": [],
   "source": [
    "model.compile(optimizer = 'rmsprop',loss = 'binary_crossentropy',metrics = ['acc'])"
   ]
  },
  {
   "cell_type": "code",
   "execution_count": 102,
   "metadata": {},
   "outputs": [
    {
     "name": "stderr",
     "output_type": "stream",
     "text": [
      "/Users/inmatin/Library/Python/3.7/lib/python/site-packages/tensorflow_core/python/framework/indexed_slices.py:424: UserWarning: Converting sparse IndexedSlices to a dense Tensor of unknown shape. This may consume a large amount of memory.\n",
      "  \"Converting sparse IndexedSlices to a dense Tensor of unknown shape. \"\n"
     ]
    },
    {
     "name": "stdout",
     "output_type": "stream",
     "text": [
      "Train on 20000 samples, validate on 5000 samples\n",
      "Epoch 1/10\n",
      "20000/20000 [==============================] - 28s 1ms/step - loss: 0.6350 - acc: 0.6296 - val_loss: 0.5328 - val_acc: 0.7540\n",
      "Epoch 2/10\n",
      "20000/20000 [==============================] - 30s 1ms/step - loss: 0.3781 - acc: 0.8446 - val_loss: 0.4044 - val_acc: 0.8186\n",
      "Epoch 3/10\n",
      "20000/20000 [==============================] - 30s 1ms/step - loss: 0.2314 - acc: 0.9109 - val_loss: 0.4244 - val_acc: 0.8324\n"
     ]
    }
   ],
   "source": [
    "from keras.callbacks import ModelCheckpoint, EarlyStopping\n",
    "earlyStopping = EarlyStopping(monitor = \"val_loss\",patience= 1)\n",
    "Checkpoint = ModelCheckpoint(\"best_model_RNN\", monitor = \"val_loss\", verbose = 0, save_best_only = True, save_weights_only = False, mode = 'auto',period = 1)\n",
    "hist = model.fit(X_train,Y_T,validation_split=0.2,epochs = 10,batch_size=128,callbacks=[Checkpoint,earlyStopping])"
   ]
  },
  {
   "cell_type": "code",
   "execution_count": 103,
   "metadata": {},
   "outputs": [
    {
     "data": {
      "image/png": "[encoded data removed]",
      "text/plain": [
       "<Figure size 432x288 with 1 Axes>"
      ]
     },
     "metadata": {
      "needs_background": "light"
     },
     "output_type": "display_data"
    },
    {
     "data": {
      "image/png": "[encoded data removed]",
      "text/plain": [
       "<Figure size 432x288 with 1 Axes>"
      ]
     },
     "metadata": {
      "needs_background": "light"
     },
     "output_type": "display_data"
    }
   ],
   "source": [
    "import matplotlib.pyplot as plt\n",
    "acc = hist.history['acc']\n",
    "val_acc = hist.history['val_acc']\n",
    "loss = hist.history['loss']\n",
    "val_loss = hist.history['val_loss']\n",
    "epoch = range(1,len(loss)+1)\n",
    "\n",
    "plt.title(\"Loss vs Epoch\")\n",
    "plt.plot(epoch,loss,label = \"training_loss\")\n",
    "plt.plot(epoch,val_loss,label = \"validation_loss\")\n",
    "\n",
    "plt.legend()\n",
    "plt.show()\n",
    "\n",
    "plt.title(\"Accuracy vs Epochs\")\n",
    "plt.plot(epoch,acc,label = \"training_accuracy\")\n",
    "plt.plot(epoch,val_acc,label = \"validation_accuray\")\n",
    "plt.legend()\n",
    "plt.show()"
   ]
  },
  {
   "cell_type": "code",
   "execution_count": null,
   "metadata": {},
   "outputs": [],
   "source": [
    "model.save(\"model_RNN.h5\")"
   ]
  },
  {
   "cell_type": "code",
   "execution_count": 88,
   "metadata": {},
   "outputs": [
    {
     "name": "stdout",
     "output_type": "stream",
     "text": [
      "Untitled.ipynb best_model_RNN model_RNN.h5\r\n"
     ]
    }
   ],
   "source": [
    "!ls"
   ]
  },
  {
   "cell_type": "code",
   "execution_count": 104,
   "metadata": {},
   "outputs": [],
   "source": [
    "model.load_weights(\"best_model_RNN\")"
   ]
  },
  {
   "cell_type": "code",
   "execution_count": 105,
   "metadata": {},
   "outputs": [
    {
     "name": "stdout",
     "output_type": "stream",
     "text": [
      "25000/25000 [==============================] - 18s 703us/step\n"
     ]
    },
    {
     "data": {
      "text/plain": [
       "[0.4120775371551514, 0.8194800019264221]"
      ]
     },
     "execution_count": 105,
     "metadata": {},
     "output_type": "execute_result"
    }
   ],
   "source": [
    "model.evaluate(X_test,Y_t)"
   ]
  },
  {
   "cell_type": "code",
   "execution_count": 113,
   "metadata": {},
   "outputs": [
    {
     "data": {
      "text/plain": [
       "array([[0.43967146],\n",
       "       [0.43967146],\n",
       "       [0.43967146],\n",
       "       [0.43967146],\n",
       "       [0.43967146],\n",
       "       [0.43967146],\n",
       "       [0.43967146],\n",
       "       [0.43967146],\n",
       "       [0.43967146],\n",
       "       [0.43967146],\n",
       "       [0.43967146],\n",
       "       [0.43967146],\n",
       "       [0.43967146],\n",
       "       [0.43967146],\n",
       "       [0.43967146],\n",
       "       [0.43967146],\n",
       "       [0.43967146],\n",
       "       [0.43967146],\n",
       "       [0.43967146],\n",
       "       [0.43967146],\n",
       "       [0.43967146],\n",
       "       [0.43967146],\n",
       "       [0.43967146],\n",
       "       [0.43967146],\n",
       "       [0.43967146],\n",
       "       [0.43967146],\n",
       "       [0.43967146],\n",
       "       [0.43967146],\n",
       "       [0.43967146],\n",
       "       [0.43967146],\n",
       "       [0.43967146],\n",
       "       [0.43967146],\n",
       "       [0.43967146],\n",
       "       [0.43967146],\n",
       "       [0.43967146],\n",
       "       [0.43967146],\n",
       "       [0.43967146],\n",
       "       [0.43967146],\n",
       "       [0.43967146],\n",
       "       [0.43967146],\n",
       "       [0.43967146],\n",
       "       [0.43967146],\n",
       "       [0.43967146],\n",
       "       [0.43967146],\n",
       "       [0.43967146],\n",
       "       [0.43967146],\n",
       "       [0.43967146],\n",
       "       [0.43967146],\n",
       "       [0.43967146],\n",
       "       [0.43967146],\n",
       "       [0.43967146],\n",
       "       [0.43967146],\n",
       "       [0.43967146],\n",
       "       [0.43967146],\n",
       "       [0.43967146],\n",
       "       [0.43967146],\n",
       "       [0.43967146],\n",
       "       [0.43967146],\n",
       "       [0.43967146],\n",
       "       [0.43967146],\n",
       "       [0.43967146],\n",
       "       [0.43967146],\n",
       "       [0.43967146],\n",
       "       [0.43967146],\n",
       "       [0.43967146],\n",
       "       [0.43967146],\n",
       "       [0.43967146],\n",
       "       [0.43967146],\n",
       "       [0.43967146],\n",
       "       [0.43967146],\n",
       "       [0.43967146],\n",
       "       [0.43967146],\n",
       "       [0.43967146],\n",
       "       [0.43967146],\n",
       "       [0.43967146],\n",
       "       [0.43967146],\n",
       "       [0.43967146],\n",
       "       [0.43967146],\n",
       "       [0.43967146],\n",
       "       [0.43967146],\n",
       "       [0.43967146],\n",
       "       [0.43967146],\n",
       "       [0.43967146],\n",
       "       [0.43967146],\n",
       "       [0.43967146],\n",
       "       [0.43967146],\n",
       "       [0.43967146],\n",
       "       [0.43967146],\n",
       "       [0.43967146],\n",
       "       [0.43967146],\n",
       "       [0.43967146],\n",
       "       [0.43967146],\n",
       "       [0.43967146],\n",
       "       [0.43967146],\n",
       "       [0.43967146],\n",
       "       [0.43967146],\n",
       "       [0.43967146],\n",
       "       [0.43967146],\n",
       "       [0.43967146],\n",
       "       [0.43967146],\n",
       "       [0.43967146],\n",
       "       [0.43967146],\n",
       "       [0.43967146],\n",
       "       [0.43967146],\n",
       "       [0.43967146],\n",
       "       [0.43967146],\n",
       "       [0.43967146],\n",
       "       [0.43967146],\n",
       "       [0.43967146],\n",
       "       [0.43967146],\n",
       "       [0.43967146],\n",
       "       [0.43967146],\n",
       "       [0.43967146],\n",
       "       [0.43967146],\n",
       "       [0.43967146],\n",
       "       [0.43967146],\n",
       "       [0.43967146],\n",
       "       [0.43967146],\n",
       "       [0.43967146],\n",
       "       [0.43967146],\n",
       "       [0.43967146],\n",
       "       [0.43967146],\n",
       "       [0.43967146],\n",
       "       [0.43967146],\n",
       "       [0.43967146],\n",
       "       [0.43967146],\n",
       "       [0.43967146],\n",
       "       [0.43967146],\n",
       "       [0.43967146],\n",
       "       [0.43967146],\n",
       "       [0.43967146],\n",
       "       [0.43967146],\n",
       "       [0.43967146],\n",
       "       [0.43967146],\n",
       "       [0.43967146],\n",
       "       [0.43967146],\n",
       "       [0.43967146],\n",
       "       [0.43967146],\n",
       "       [0.43967146],\n",
       "       [0.43967146],\n",
       "       [0.43967146],\n",
       "       [0.43967146],\n",
       "       [0.43967146],\n",
       "       [0.43967146],\n",
       "       [0.43967146],\n",
       "       [0.43967146],\n",
       "       [0.43967146],\n",
       "       [0.43967146],\n",
       "       [0.43967146],\n",
       "       [0.43967146],\n",
       "       [0.43967146],\n",
       "       [0.43967146],\n",
       "       [0.43967146],\n",
       "       [0.43967146],\n",
       "       [0.43967146],\n",
       "       [0.43967146],\n",
       "       [0.43967146],\n",
       "       [0.43967146],\n",
       "       [0.43967146],\n",
       "       [0.43967146],\n",
       "       [0.43967146],\n",
       "       [0.43967146],\n",
       "       [0.43967146],\n",
       "       [0.43967146],\n",
       "       [0.43967146],\n",
       "       [0.43967146],\n",
       "       [0.43967146],\n",
       "       [0.43967146],\n",
       "       [0.43967146],\n",
       "       [0.43967146],\n",
       "       [0.43967146],\n",
       "       [0.43967146],\n",
       "       [0.43967146],\n",
       "       [0.43967146],\n",
       "       [0.43967146],\n",
       "       [0.43967146],\n",
       "       [0.43967146],\n",
       "       [0.43967146],\n",
       "       [0.43967146],\n",
       "       [0.43967146],\n",
       "       [0.43967146],\n",
       "       [0.43967146],\n",
       "       [0.43967146],\n",
       "       [0.43967146],\n",
       "       [0.43967146],\n",
       "       [0.43967146],\n",
       "       [0.43967146],\n",
       "       [0.43967146],\n",
       "       [0.43967146],\n",
       "       [0.43967146],\n",
       "       [0.43967146],\n",
       "       [0.43967146],\n",
       "       [0.43967146],\n",
       "       [0.43967146],\n",
       "       [0.43967146],\n",
       "       [0.43967146],\n",
       "       [0.43967146],\n",
       "       [0.43967146],\n",
       "       [0.43967146],\n",
       "       [0.43967146],\n",
       "       [0.43967146],\n",
       "       [0.43967146],\n",
       "       [0.43967146],\n",
       "       [0.43967146],\n",
       "       [0.43967146],\n",
       "       [0.43967146],\n",
       "       [0.43967146],\n",
       "       [0.43967146],\n",
       "       [0.43967146],\n",
       "       [0.43967146],\n",
       "       [0.43967146],\n",
       "       [0.43967146],\n",
       "       [0.43967146],\n",
       "       [0.43967146],\n",
       "       [0.43967146],\n",
       "       [0.43967146],\n",
       "       [0.43967146],\n",
       "       [0.43967146],\n",
       "       [0.43967146],\n",
       "       [0.43967146],\n",
       "       [0.43967146],\n",
       "       [0.43967146],\n",
       "       [0.43967146],\n",
       "       [0.43967146],\n",
       "       [0.43967146],\n",
       "       [0.43967146],\n",
       "       [0.43967146],\n",
       "       [0.43967146],\n",
       "       [0.43967146],\n",
       "       [0.43967146],\n",
       "       [0.43967146],\n",
       "       [0.43967146],\n",
       "       [0.43967146],\n",
       "       [0.43967146],\n",
       "       [0.43967146],\n",
       "       [0.43967146],\n",
       "       [0.43967146],\n",
       "       [0.43967146],\n",
       "       [0.43967146],\n",
       "       [0.43967146],\n",
       "       [0.43967146],\n",
       "       [0.43967146],\n",
       "       [0.43967146],\n",
       "       [0.43967146],\n",
       "       [0.43967146],\n",
       "       [0.43967146],\n",
       "       [0.43967146],\n",
       "       [0.43967146],\n",
       "       [0.43967146],\n",
       "       [0.43967146],\n",
       "       [0.43967146],\n",
       "       [0.43967146],\n",
       "       [0.43967146],\n",
       "       [0.43967146],\n",
       "       [0.43967146],\n",
       "       [0.43967146],\n",
       "       [0.43967146],\n",
       "       [0.43967146],\n",
       "       [0.43967146],\n",
       "       [0.43967146],\n",
       "       [0.43967146],\n",
       "       [0.43967146],\n",
       "       [0.43967146],\n",
       "       [0.43967146],\n",
       "       [0.43967146],\n",
       "       [0.43967146],\n",
       "       [0.43967146],\n",
       "       [0.43967146],\n",
       "       [0.43967146],\n",
       "       [0.43967146],\n",
       "       [0.43967146],\n",
       "       [0.43967146],\n",
       "       [0.43967146],\n",
       "       [0.43967146],\n",
       "       [0.43967146],\n",
       "       [0.43967146],\n",
       "       [0.43967146],\n",
       "       [0.43967146],\n",
       "       [0.43967146],\n",
       "       [0.43967146],\n",
       "       [0.43967146],\n",
       "       [0.43967146],\n",
       "       [0.43967146],\n",
       "       [0.43967146],\n",
       "       [0.43967146],\n",
       "       [0.43967146],\n",
       "       [0.43967146],\n",
       "       [0.43967146],\n",
       "       [0.43967146],\n",
       "       [0.43967146],\n",
       "       [0.43967146],\n",
       "       [0.43967146],\n",
       "       [0.43967146],\n",
       "       [0.43967146],\n",
       "       [0.43967146],\n",
       "       [0.43967146],\n",
       "       [0.43967146],\n",
       "       [0.43967146],\n",
       "       [0.43967146],\n",
       "       [0.43967146],\n",
       "       [0.43967146],\n",
       "       [0.43967146],\n",
       "       [0.43967146],\n",
       "       [0.43967146],\n",
       "       [0.43967146],\n",
       "       [0.43967146],\n",
       "       [0.43967146],\n",
       "       [0.43967146],\n",
       "       [0.43967146],\n",
       "       [0.43967146],\n",
       "       [0.43967146],\n",
       "       [0.43967146],\n",
       "       [0.43967146],\n",
       "       [0.43967146],\n",
       "       [0.43967146],\n",
       "       [0.43967146],\n",
       "       [0.43967146],\n",
       "       [0.43967146],\n",
       "       [0.43967146],\n",
       "       [0.43967146],\n",
       "       [0.43967146],\n",
       "       [0.43967146],\n",
       "       [0.43967146],\n",
       "       [0.43967146],\n",
       "       [0.43967146],\n",
       "       [0.43967146],\n",
       "       [0.43967146],\n",
       "       [0.43967146],\n",
       "       [0.43967146],\n",
       "       [0.43967146],\n",
       "       [0.43967146],\n",
       "       [0.43967146],\n",
       "       [0.43967146],\n",
       "       [0.43967146],\n",
       "       [0.43967146],\n",
       "       [0.43967146],\n",
       "       [0.43967146],\n",
       "       [0.43967146],\n",
       "       [0.43967146],\n",
       "       [0.43967146],\n",
       "       [0.43967146],\n",
       "       [0.43967146],\n",
       "       [0.43967146],\n",
       "       [0.43967146],\n",
       "       [0.43967146],\n",
       "       [0.43967146],\n",
       "       [0.43967146],\n",
       "       [0.43967146],\n",
       "       [0.43967146],\n",
       "       [0.43967146],\n",
       "       [0.43967146],\n",
       "       [0.43967146],\n",
       "       [0.43967146],\n",
       "       [0.43967146],\n",
       "       [0.43967146],\n",
       "       [0.43967146],\n",
       "       [0.43967146],\n",
       "       [0.43967146],\n",
       "       [0.43967146],\n",
       "       [0.43967146],\n",
       "       [0.43967146],\n",
       "       [0.43967146],\n",
       "       [0.43967146],\n",
       "       [0.43967146],\n",
       "       [0.43967146],\n",
       "       [0.43967146],\n",
       "       [0.43967146],\n",
       "       [0.43967146],\n",
       "       [0.43967146],\n",
       "       [0.43967146],\n",
       "       [0.43967146],\n",
       "       [0.43967146],\n",
       "       [0.43967146],\n",
       "       [0.43967146],\n",
       "       [0.43967146],\n",
       "       [0.43967146],\n",
       "       [0.43967146],\n",
       "       [0.43967146],\n",
       "       [0.43967146],\n",
       "       [0.43967146],\n",
       "       [0.43967146],\n",
       "       [0.43967146],\n",
       "       [0.43967146],\n",
       "       [0.43967146],\n",
       "       [0.43967146],\n",
       "       [0.43967146],\n",
       "       [0.43967146],\n",
       "       [0.43967146],\n",
       "       [0.43967146],\n",
       "       [0.43967146],\n",
       "       [0.43967146],\n",
       "       [0.43967146],\n",
       "       [0.43967146],\n",
       "       [0.43967146],\n",
       "       [0.43967146],\n",
       "       [0.43967146],\n",
       "       [0.43967146],\n",
       "       [0.43967146],\n",
       "       [0.43967146],\n",
       "       [0.43967146],\n",
       "       [0.43967146],\n",
       "       [0.43967146],\n",
       "       [0.43967146],\n",
       "       [0.43967146],\n",
       "       [0.43967146],\n",
       "       [0.43967146],\n",
       "       [0.43967146],\n",
       "       [0.43967146],\n",
       "       [0.43967146],\n",
       "       [0.43967146],\n",
       "       [0.43967146],\n",
       "       [0.43967146],\n",
       "       [0.43967146],\n",
       "       [0.43967146],\n",
       "       [0.43967146],\n",
       "       [0.43967146],\n",
       "       [0.43967146],\n",
       "       [0.43967146],\n",
       "       [0.43967146],\n",
       "       [0.43967146],\n",
       "       [0.43967146],\n",
       "       [0.43967146],\n",
       "       [0.43967146],\n",
       "       [0.43967146],\n",
       "       [0.43967146],\n",
       "       [0.43967146],\n",
       "       [0.43967146],\n",
       "       [0.43967146],\n",
       "       [0.43967146],\n",
       "       [0.43967146],\n",
       "       [0.43967146],\n",
       "       [0.43967146],\n",
       "       [0.5958922 ],\n",
       "       [0.43172598],\n",
       "       [0.50019604],\n",
       "       [0.43318266],\n",
       "       [0.5067297 ],\n",
       "       [0.504906  ],\n",
       "       [0.4164973 ],\n",
       "       [0.44619423],\n",
       "       [0.44619423],\n",
       "       [0.5006286 ],\n",
       "       [0.5129976 ],\n",
       "       [0.51231444],\n",
       "       [0.47966906],\n",
       "       [0.32119107],\n",
       "       [0.4985441 ],\n",
       "       [0.47966906],\n",
       "       [0.5552843 ],\n",
       "       [0.4848489 ],\n",
       "       [0.24930945],\n",
       "       [0.64245373],\n",
       "       [0.47966906],\n",
       "       [0.5008447 ],\n",
       "       [0.4806953 ],\n",
       "       [0.34061116],\n",
       "       [0.34061116],\n",
       "       [0.34061116],\n",
       "       [0.44619423],\n",
       "       [0.44619423],\n",
       "       [0.5282068 ],\n",
       "       [0.44623086],\n",
       "       [0.5020396 ],\n",
       "       [0.4357503 ],\n",
       "       [0.5647149 ],\n",
       "       [0.46157688],\n",
       "       [0.48075426],\n",
       "       [0.47323868],\n",
       "       [0.39440367],\n",
       "       [0.43318266],\n",
       "       [0.5067297 ],\n",
       "       [0.5492729 ],\n",
       "       [0.5193786 ],\n",
       "       [0.5134825 ],\n",
       "       [0.49602413],\n",
       "       [0.50293297],\n",
       "       [0.55002475],\n",
       "       [0.46294522],\n",
       "       [0.5020396 ],\n",
       "       [0.43318266],\n",
       "       [0.37241304],\n",
       "       [0.4393274 ],\n",
       "       [0.46294522],\n",
       "       [0.52026373],\n",
       "       [0.5198552 ],\n",
       "       [0.51231444],\n",
       "       [0.5193786 ],\n",
       "       [0.58459544],\n",
       "       [0.49079162],\n",
       "       [0.600133  ],\n",
       "       [0.48282343],\n",
       "       [0.46219698],\n",
       "       [0.49469608],\n",
       "       [0.5467812 ],\n",
       "       [0.46157688],\n",
       "       [0.6618395 ],\n",
       "       [0.50019604],\n",
       "       [0.43318266],\n",
       "       [0.504906  ],\n",
       "       [0.41649726]], dtype=float32)"
      ]
     },
     "execution_count": 113,
     "metadata": {},
     "output_type": "execute_result"
    }
   ],
   "source": [
    "model.predict(X_test[0])"
   ]
  },
  {
   "cell_type": "code",
   "execution_count": null,
   "metadata": {},
   "outputs": [],
   "source": []
  }
 ],
 "metadata": {
  "kernelspec": {
   "display_name": "Python 3",
   "language": "python",
   "name": "python3"
  },
  "language_info": {
   "codemirror_mode": {
    "name": "ipython",
    "version": 3
   },
   "file_extension": ".py",
   "mimetype": "text/x-python",
   "name": "python",
   "nbconvert_exporter": "python",
   "pygments_lexer": "ipython3",
   "version": "3.7.4"
  }
 },
 "nbformat": 4,
 "nbformat_minor": 2
}
